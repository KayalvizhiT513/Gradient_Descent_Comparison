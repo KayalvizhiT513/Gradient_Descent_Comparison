{
  "nbformat": 4,
  "nbformat_minor": 0,
  "metadata": {
    "colab": {
      "provenance": [],
      "authorship_tag": "ABX9TyOLho96CL9D09kXvuhmRVCl",
      "include_colab_link": true
    },
    "kernelspec": {
      "name": "python3",
      "display_name": "Python 3"
    },
    "language_info": {
      "name": "python"
    }
  },
  "cells": [
    {
      "cell_type": "markdown",
      "metadata": {
        "id": "view-in-github",
        "colab_type": "text"
      },
      "source": [
        "<a href=\"https://colab.research.google.com/github/KayalvizhiT513/Gradient_Descent_Comparison/blob/main/SGD_with_momentum.ipynb\" target=\"_parent\"><img src=\"https://colab.research.google.com/assets/colab-badge.svg\" alt=\"Open In Colab\"/></a>"
      ]
    },
    {
      "cell_type": "markdown",
      "source": [
        "**Exponentially Weighted Averages** is used in sequential noisy data to reduce the noise and smoothen the data. To denoise the data, we can use the following equation to generate a new sequence of data with less noise.\n",
        "![link text](https://miro.medium.com/v2/resize:fit:828/format:webp/1*RFd9_0MdWli6zInCrNu0IA.png)\n",
        "\n",
        "Now, let’s see how the new sequence is generated using the above equation: For our example to make it simple, let’s consider a sequence of size 3.\n",
        "\n",
        "![link text](https://miro.medium.com/v2/resize:fit:828/format:webp/1*oDSCizfdu0uUj2AtOEbKEw.png)\n",
        "\n",
        "Let’s expand V3 equation:\n",
        "\n",
        "![link text](https://miro.medium.com/v2/resize:fit:828/format:webp/1*Nfg7cIutvIiJPJkF23lfGg.png)"
      ],
      "metadata": {
        "id": "iMZTZ8xgnc83"
      }
    },
    {
      "cell_type": "markdown",
      "source": [
        "# 1. SGD with momentum\n",
        "It always works better than the normal Stochastic Gradient Descent Algorithm. The problem with SGD is that while it tries to reach minima because of the high oscillation we can’t increase the learning rate. So it takes time to converge. In this algorithm, we will be using Exponentially Weighted Averages to compute Gradient and used this Gradient to update parameter.\n"
      ],
      "metadata": {
        "id": "l8ePUbInsbAB"
      }
    },
    {
      "cell_type": "markdown",
      "source": [
        "*   An equation to update weights and bias in SGD"
      ],
      "metadata": {
        "id": "f6ieUTYisswn"
      }
    },
    {
      "cell_type": "markdown",
      "source": [
        "![link text](https://miro.medium.com/v2/resize:fit:828/format:webp/1*2l_DnUmIaLC-WPMBvWLoEw.png)"
      ],
      "metadata": {
        "id": "wum7tGC-tkWX"
      }
    },
    {
      "cell_type": "markdown",
      "source": [
        "*   An equation to update weights and bias in SGD with momentum\n",
        "![link text](https://miro.medium.com/v2/resize:fit:828/format:webp/1*OWwKUnci57wc3MjpCh2P0Q.png)\n",
        "\n",
        "In SGD with momentum, we have added momentum in a gradient function. By this I mean the present Gradient is dependent on its previous Gradient and so on. This accelerates SGD to converge faster and reduce the oscillation.\n",
        "![link text](https://miro.medium.com/v2/resize:fit:828/format:webp/1*IKSRsulGaDzrPuiTAuE2YQ.png)\n",
        "\n",
        "The above picture shows how the convergence happens in SGD with momentum vs SGD without momentum."
      ],
      "metadata": {
        "id": "BfdOtP1KudHi"
      }
    },
    {
      "cell_type": "code",
      "source": [
        "import numpy as np\n",
        "import csv\n",
        "\n",
        "# Step 1: Initialize weights and learning rate\n",
        "w_0 = 0.8260560647266798\n",
        "w_1 = 0.5782539087214469\n",
        "learning_rate = 0.01\n",
        "\n",
        "# Step 2: Load data from CSV file\n",
        "data = np.genfromtxt('randXY.csv', delimiter=',', skip_header=1)  # Adjust the filename accordingly\n",
        "\n",
        "# Extract X and Y from the loaded data\n",
        "X = data[:, 0]  # Assuming the first column is X\n",
        "Y = data[:, 1]  # Assuming the second column is Y\n",
        "\n",
        "print(\"Initial w0: \", w_0, \"\\n Initial w1: \", w_1)"
      ],
      "metadata": {
        "colab": {
          "base_uri": "https://localhost:8080/"
        },
        "id": "IsPbAio9oRin",
        "outputId": "85f55ddc-c7e5-4e70-a1c0-4b5fdb7eb9e6"
      },
      "execution_count": null,
      "outputs": [
        {
          "output_type": "stream",
          "name": "stdout",
          "text": [
            "Initial w0:  0.8260560647266798 \n",
            " Initial w1:  0.5782539087214469\n"
          ]
        }
      ]
    },
    {
      "cell_type": "code",
      "source": [
        "def percentage_difference(value1, value2):\n",
        "    return (np.abs(value1 - value2) / ((value1 + value2) / 2)) * 100"
      ],
      "metadata": {
        "id": "DTafeSnWoY5Z"
      },
      "execution_count": null,
      "outputs": []
    },
    {
      "cell_type": "code",
      "source": [
        "import matplotlib.pyplot as plt\n",
        "\n",
        "# Function to plot epoch vs. loss\n",
        "def plot_loss_vs_epoch(loss_history, algorithm_name):\n",
        "    plt.plot(range(len(loss_history)), loss_history, label=algorithm_name)\n",
        "    plt.xlabel('Epoch')\n",
        "    plt.ylabel('Loss')\n",
        "    plt.title(f'{algorithm_name} - Epoch vs. Loss')\n",
        "    plt.legend()\n",
        "    plt.show()"
      ],
      "metadata": {
        "id": "u6Zzm7ySocuI"
      },
      "execution_count": null,
      "outputs": []
    },
    {
      "cell_type": "code",
      "source": [
        "def update_w_with_momentum(w, learning_rate, prev_gradient_w, gradient_w, beta = 0.9):\n",
        "    # Update velocity\n",
        "    velocity = (beta * prev_gradient_w) + ((1 - beta) * gradient_w)\n",
        "\n",
        "    # Update w0\n",
        "    w = w - (learning_rate * velocity)\n",
        "\n",
        "    return w, velocity"
      ],
      "metadata": {
        "id": "yRCHBBZnp5f7"
      },
      "execution_count": null,
      "outputs": []
    },
    {
      "cell_type": "code",
      "source": [
        "# Step 3: Define SGD function\n",
        "def sgd_one_sample(X, Y, w0, w1, learning_rate, epochs=6000, tol=1, consecutive_instances=10):\n",
        "    n = len(X)\n",
        "    prev_loss = float('inf')\n",
        "    count = 0\n",
        "\n",
        "    # Initialize previous gradients\n",
        "    prev_gradient_w0 = 0.0\n",
        "    prev_gradient_w1 = 0.0\n",
        "\n",
        "    for epoch in range(epochs):\n",
        "        for i in range(n):\n",
        "            # Select one random data point\n",
        "            random_index = np.random.randint(0, n)\n",
        "            x_i = X[random_index]\n",
        "            y_i = Y[random_index]\n",
        "\n",
        "            # Calculate prediction and loss for the selected point\n",
        "            prediction = w0 + w1 * x_i\n",
        "            loss = (y_i - prediction)**2\n",
        "\n",
        "            # Calculate gradients\n",
        "            gradient_w0 = -2 * (y_i - prediction)\n",
        "            gradient_w1 = -2 * (y_i - prediction) * x_i\n",
        "\n",
        "            # Update weights\n",
        "            w0, gradient_w0 = update_w_with_momentum(w0, learning_rate, prev_gradient_w0, gradient_w0)\n",
        "            w1, gradient_w1 = update_w_with_momentum(w1, learning_rate, prev_gradient_w1, gradient_w1)\n",
        "\n",
        "            # Update previous gradient for next iteration\n",
        "            prev_gradient_w0 = gradient_w0\n",
        "            prev_gradient_w1 = gradient_w1\n",
        "\n",
        "        # Calculate overall loss for monitoring\n",
        "        predictions = w0 + w1 * X\n",
        "        overall_loss = np.mean((Y - predictions)**2)\n",
        "\n",
        "        percent_diff = percentage_difference(prev_loss, overall_loss)\n",
        "        if percent_diff < tol:\n",
        "          count += 1\n",
        "        else:\n",
        "          count = 0\n",
        "\n",
        "        # Print loss for monitoring\n",
        "        if epoch % 500 == 0:\n",
        "            print(f\"Epoch {epoch}, Loss: {overall_loss}\")\n",
        "\n",
        "        # Update the stopping criteria to consider non-inf values\n",
        "        if count >= consecutive_instances:\n",
        "            print(f\"Epoch {epoch}, Loss: {overall_loss}\")\n",
        "            print(\"Converged! \")\n",
        "            break\n",
        "\n",
        "        # Append loss to the history\n",
        "        loss_history_sgd_one_sample.append(overall_loss)\n",
        "\n",
        "        # Update previous loss for the next iteration\n",
        "        prev_loss = overall_loss\n",
        "\n",
        "    return w0, w1\n",
        "\n",
        "# Step 4: Run SGD with one training sample at a time\n",
        "w_0 = 0.8260560647266798\n",
        "w_1 = 0.5782539087214469\n",
        "learning_rate = 0.01\n",
        "loss_history_sgd_one_sample = []\n",
        "w0_sgd_one_sample, w1_sgd_one_sample = sgd_one_sample(X, Y, w_0, w_1, learning_rate)\n",
        "print(f\"Final weights for SGD with one sample: w0={w0_sgd_one_sample}, w1={w1_sgd_one_sample}\")"
      ],
      "metadata": {
        "colab": {
          "base_uri": "https://localhost:8080/"
        },
        "id": "Vh9pbtpmoe44",
        "outputId": "3ea3cb9c-0b00-425f-890d-9c6deda77718"
      },
      "execution_count": null,
      "outputs": [
        {
          "output_type": "stream",
          "name": "stdout",
          "text": [
            "Epoch 0, Loss: 0.04132899486033918\n",
            "Epoch 24, Loss: 0.02111865111442244\n",
            "Converged! \n",
            "Final weights for SGD with one sample: w0=4.747012413411985, w1=4.982396636503373\n"
          ]
        },
        {
          "output_type": "stream",
          "name": "stderr",
          "text": [
            "<ipython-input-35-d4fdf7de7d20>:2: RuntimeWarning: invalid value encountered in double_scalars\n",
            "  return (np.abs(value1 - value2) / ((value1 + value2) / 2)) * 100\n"
          ]
        }
      ]
    },
    {
      "cell_type": "code",
      "source": [
        "# Plot the loss vs. epoch graph for SGD with one sample\n",
        "plot_loss_vs_epoch(loss_history_sgd_one_sample, 'SGD with momentum')"
      ],
      "metadata": {
        "colab": {
          "base_uri": "https://localhost:8080/",
          "height": 472
        },
        "id": "yIq_aGJmri6i",
        "outputId": "e495c6f4-46ed-4c04-ea53-6e7f635e0803"
      },
      "execution_count": null,
      "outputs": [
        {
          "output_type": "display_data",
          "data": {
            "text/plain": [
              "<Figure size 640x480 with 1 Axes>"
            ],
            "image/png": "[encoded data removed]"
          },
          "metadata": {}
        }
      ]
    }
  ]
}
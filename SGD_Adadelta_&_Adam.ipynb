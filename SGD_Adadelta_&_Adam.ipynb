{
  "nbformat": 4,
  "nbformat_minor": 0,
  "metadata": {
    "colab": {
      "provenance": [],
      "authorship_tag": "ABX9TyOTAVwt2WdJGw+zWUoIO35o",
      "include_colab_link": true
    },
    "kernelspec": {
      "name": "python3",
      "display_name": "Python 3"
    },
    "language_info": {
      "name": "python"
    }
  },
  "cells": [
    {
      "cell_type": "markdown",
      "metadata": {
        "id": "view-in-github",
        "colab_type": "text"
      },
      "source": [
        "<a href=\"https://colab.research.google.com/github/KayalvizhiT513/Gradient_Descent_Comparison/blob/main/SGD_Adadelta_%26_Adam.ipynb\" target=\"_parent\"><img src=\"https://colab.research.google.com/assets/colab-badge.svg\" alt=\"Open In Colab\"/></a>"
      ]
    },
    {
      "cell_type": "markdown",
      "source": [
        "# **3. Adadelta**"
      ],
      "metadata": {
        "id": "cRTUII8to4YI"
      }
    },
    {
      "cell_type": "code",
      "execution_count": 1,
      "metadata": {
        "colab": {
          "base_uri": "https://localhost:8080/"
        },
        "id": "kb9apK7ZPkSs",
        "outputId": "cc566256-78c6-4f00-e80f-195860533319"
      },
      "outputs": [
        {
          "output_type": "stream",
          "name": "stdout",
          "text": [
            "Initial w0:  0.8260560647266798 \n",
            " Initial w1:  0.5782539087214469\n"
          ]
        }
      ],
      "source": [
        "import numpy as np\n",
        "import csv\n",
        "\n",
        "# Step 1: Initialize weights and learning rate\n",
        "w_0 = 0.8260560647266798\n",
        "w_1 = 0.5782539087214469\n",
        "learning_rate = 0.01\n",
        "\n",
        "# Step 2: Load data from CSV file\n",
        "data = np.genfromtxt('randXY.csv', delimiter=',', skip_header=1)  # Adjust the filename accordingly\n",
        "\n",
        "# Extract X and Y from the loaded data\n",
        "X = data[:, 0]  # Assuming the first column is X\n",
        "Y = data[:, 1]  # Assuming the second column is Y\n",
        "\n",
        "print(\"Initial w0: \", w_0, \"\\n Initial w1: \", w_1)"
      ]
    },
    {
      "cell_type": "code",
      "source": [
        "def percentage_difference(value1, value2):\n",
        "    return (np.abs(value1 - value2) / ((value1 + value2) / 2)) * 100"
      ],
      "metadata": {
        "id": "bHC7zf5fPvfi"
      },
      "execution_count": 2,
      "outputs": []
    },
    {
      "cell_type": "code",
      "source": [
        "import matplotlib.pyplot as plt\n",
        "\n",
        "# Function to plot epoch vs. loss\n",
        "def plot_loss_vs_epoch(loss_history, algorithm_name):\n",
        "    plt.plot(range(len(loss_history)), loss_history, label=algorithm_name)\n",
        "    plt.xlabel('Epoch')\n",
        "    plt.ylabel('Loss')\n",
        "    plt.title(f'{algorithm_name} - Epoch vs. Loss')\n",
        "    plt.legend()\n",
        "    plt.show()"
      ],
      "metadata": {
        "id": "WQaZKkyQP3-p"
      },
      "execution_count": 3,
      "outputs": []
    },
    {
      "cell_type": "code",
      "source": [
        "from math import sqrt\n",
        "\n",
        "def update_w_with_adadelta(w, learning_rate, a, gradient_w, e = 1e-8):\n",
        "    # Update learning_rate\n",
        "    learning_rate = learning_rate / sqrt(a + e)\n",
        "    print(learning_rate)\n",
        "    # Update w0\n",
        "    w = w - (learning_rate * gradient_w)\n",
        "\n",
        "    return w, learning_rate"
      ],
      "metadata": {
        "id": "gTPoY2FCP5BM"
      },
      "execution_count": 4,
      "outputs": []
    },
    {
      "cell_type": "code",
      "source": [
        "# Step 3: Define SGD function\n",
        "def sgd_one_sample(X, Y, w0, w1, learning_rate, epochs=6000, tol=1, consecutive_instances=10):\n",
        "    n = len(X)\n",
        "    prev_loss = float('inf')\n",
        "    count = 0\n",
        "    a = 0\n",
        "    b = 0.9 # Initailize beta value\n",
        "\n",
        "    # Initialize previous gradients and accumulators\n",
        "    learning_rate_w0 = 0.01\n",
        "    learning_rate_w1 = 0.01\n",
        "    a_w0 = 0.0\n",
        "    a_w1 = 0.0\n",
        "\n",
        "    for epoch in range(epochs):\n",
        "        for i in range(n):\n",
        "            # Select one random data point\n",
        "            random_index = np.random.randint(0, n)\n",
        "            x_i = X[random_index]\n",
        "            y_i = Y[random_index]\n",
        "\n",
        "            # Calculate prediction and loss for the selected point\n",
        "            prediction = w0 + w1 * x_i\n",
        "            loss = (y_i - prediction)**2\n",
        "\n",
        "            # Calculate gradients\n",
        "            gradient_w0 = -2 * (y_i - prediction)\n",
        "            gradient_w1 = -2 * (y_i - prediction) * x_i\n",
        "\n",
        "            # Update weights\n",
        "            w0, learning_rate_w0 = update_w_with_adadelta(w0, learning_rate_w0, a_w0, gradient_w0)\n",
        "            w1, learning_rate_w1 = update_w_with_adadelta(w1, learning_rate_w1, a_w1, gradient_w1)\n",
        "\n",
        "            # Update a for next iteration\n",
        "            a_w0 = (b * a_w0) + ((1-b) * gradient_w0**2)\n",
        "            a_w1 = (b * a_w1) + ((1-b) * gradient_w1**2)\n",
        "\n",
        "            if learning_rate_w0 == 0 and learning_rate_w1 == 0:\n",
        "              break\n",
        "\n",
        "\n",
        "        # Calculate overall loss for monitoring\n",
        "        predictions = w0 + w1 * X\n",
        "        overall_loss = np.mean((Y - predictions)**2)\n",
        "\n",
        "        percent_diff = percentage_difference(prev_loss, overall_loss)\n",
        "        if percent_diff < tol:\n",
        "          count += 1\n",
        "        else:\n",
        "          count = 0\n",
        "\n",
        "        # Print loss for monitoring\n",
        "        if epoch % 500 == 0:\n",
        "            #print(f\"learning_rate_w0: {learning_rate_w0}, learning_rate_w1: {learning_rate_w1}\")\n",
        "            print(f\"Epoch {epoch}, Loss: {overall_loss}\")\n",
        "\n",
        "        # the model will stop learning as the learning rate is 0\n",
        "        if learning_rate_w0 == 0 or learning_rate_w1 == 0:\n",
        "            print(f\"learning_rate_w0: {learning_rate_w0}, learning_rate_w1: {learning_rate_w1}\")\n",
        "            print(f\"Epoch {epoch}, Loss: {overall_loss}\")\n",
        "            break\n",
        "\n",
        "        # Update the stopping criteria to consider non-inf values\n",
        "        if count >= consecutive_instances:\n",
        "            print(f\"Epoch {epoch}, Loss: {overall_loss}\")\n",
        "            print(\"Converged! \", count)\n",
        "            break\n",
        "\n",
        "        # Append loss to the history\n",
        "        loss_history_sgd_one_sample.append(overall_loss)\n",
        "\n",
        "        # Update previous loss for the next iteration\n",
        "        prev_loss = overall_loss\n",
        "\n",
        "    return w0, w1\n",
        "\n",
        "# Step 4: Run SGD with one training sample at a time\n",
        "w_0 = 0.8260560647266798\n",
        "w_1 = 0.5782539087214469\n",
        "learning_rate = 0.01\n",
        "loss_history_sgd_one_sample = []\n",
        "w0_sgd_one_sample, w1_sgd_one_sample = sgd_one_sample(X, Y, w_0, w_1, learning_rate)\n",
        "print(f\"Final weights for SGD with one sample: w0={w0_sgd_one_sample}, w1={w1_sgd_one_sample}\")"
      ],
      "metadata": {
        "colab": {
          "base_uri": "https://localhost:8080/"
        },
        "id": "Ca1fQrvrP5_l",
        "outputId": "76454a87-385f-4465-fb73-3e16ed2c6bfd"
      },
      "execution_count": 5,
      "outputs": [
        {
          "output_type": "stream",
          "name": "stdout",
          "text": [
            "100.0\n",
            "100.0\n",
            "30.70922152971555\n",
            "126.91158834337378\n",
            "0.03912417454876936\n",
            "0.18383999421088468\n",
            "1.7817450643852833e-07\n",
            "8.52045411051198e-07\n",
            "8.397074541720117e-13\n",
            "4.16171909282052e-12\n",
            "3.8678475582950115e-18\n",
            "2.0914568696985448e-17\n",
            "1.6329456282730115e-23\n",
            "9.664103130843143e-23\n",
            "6.825244712855594e-29\n",
            "4.600680657104483e-28\n",
            "2.885920312308647e-34\n",
            "2.29065283297224e-33\n",
            "1.1457619995544819e-39\n",
            "1.0632511059890597e-38\n",
            "4.391400240841075e-45\n",
            "4.832997780622762e-44\n",
            "1.6686408915331852e-50\n",
            "2.2389029878040393e-49\n",
            "6.037038488148441e-56\n",
            "9.645649484978806e-55\n",
            "2.1249251695798666e-61\n",
            "4.053363004366005e-60\n",
            "7.34304480379859e-67\n",
            "1.6864510157930858e-65\n",
            "2.617822623567213e-72\n",
            "7.377276202428784e-71\n",
            "9.247033510318751e-78\n",
            "3.2508991572741046e-76\n",
            "3.172532482854852e-83\n",
            "1.3742754894953283e-81\n",
            "1.0583787571637024e-88\n",
            "5.564040001083501e-87\n",
            "3.516375148966017e-94\n",
            "2.274438312658644e-92\n",
            "1.2024439393230237e-99\n",
            "9.75807842996565e-98\n",
            "4.114841885106115e-105\n",
            "4.2643524009250753e-103\n",
            "1.450808802028742e-110\n",
            "1.9572812334988363e-108\n",
            "5.273342685670107e-116\n",
            "9.440688428992763e-114\n",
            "2.000810105441888e-121\n",
            "4.7995525945126616e-119\n",
            "7.617185290564917e-127\n",
            "2.5088929962999384e-124\n",
            "2.898577374725801e-132\n",
            "1.3396109869258949e-129\n",
            "1.137039309991742e-137\n",
            "7.520504951461954e-135\n",
            "4.529398610219759e-143\n",
            "4.398695250604364e-140\n",
            "1.761404008003238e-148\n",
            "2.5038305420999178e-145\n",
            "6.822401692261324e-154\n",
            "1.4440925860399251e-150\n",
            "2.6364372056274846e-159\n",
            "8.450474270375671e-156\n",
            "9.949939114649242e-165\n",
            "4.7615536867172465e-161\n",
            "3.727142833983726e-170\n",
            "2.6841968492288436e-166\n",
            "1.4174009246133502e-175\n",
            "1.5705024567382983e-171\n",
            "5.108376647850978e-181\n",
            "7.887040860095904e-177\n",
            "1.8862315771324494e-186\n",
            "4.146659564794329e-182\n",
            "6.764259766039889e-192\n",
            "2.0640949590190086e-187\n",
            "2.3584169533043194e-197\n",
            "9.731303160823186e-193\n",
            "8.29673824153844e-203\n",
            "4.721563023354245e-198\n",
            "2.967530832613562e-208\n",
            "2.380193873271571e-203\n",
            "1.0616807349301029e-213\n",
            "1.2170060728103008e-208\n",
            "3.9603835288556825e-219\n",
            "6.557914022738644e-214\n",
            "1.4887529400273477e-224\n",
            "3.637455734975903e-219\n",
            "5.475972148680084e-230\n",
            "1.9489292353668018e-224\n",
            "1.951143414703815e-235\n",
            "9.749442145450958e-230\n",
            "7.030835834430395e-241\n",
            "5.034895288312365e-235\n",
            "2.5964260372405936e-246\n",
            "2.7216632245969243e-240\n",
            "9.71330471215748e-252\n",
            "1.5231836729075863e-245\n",
            "3.779634704880264e-257\n",
            "8.981858265702253e-251\n",
            "1.4880742472892715e-262\n",
            "5.485839734877786e-256\n",
            "5.651734116299435e-268\n",
            "3.106935429062566e-261\n",
            "2.0287109850554037e-273\n",
            "1.5085751994214256e-266\n",
            "7.383670417290761e-279\n",
            "7.599517482214762e-272\n",
            "2.6199919880716133e-284\n",
            "3.6713159171048873e-277\n",
            "9.543607706101602e-290\n",
            "1.85914039015376e-282\n",
            "3.4077368752412287e-295\n",
            "9.160200536957059e-288\n",
            "1.2247732623732438e-300\n",
            "4.6322096251688827e-293\n",
            "4.423739866538378e-306\n",
            "2.3969237154388804e-298\n",
            "1.6616187964057e-311\n",
            "1.3066830999312745e-303\n",
            "6.5128746e-317\n",
            "7.50814028343021e-309\n",
            "2.5e-322\n",
            "4.2915415204e-314\n",
            "0.0\n",
            "2.20996e-319\n",
            "0.0\n",
            "0.0\n",
            "Epoch 0, Loss: 17025588683.945866\n",
            "learning_rate_w0: 0.0, learning_rate_w1: 0.0\n",
            "Epoch 0, Loss: 17025588683.945866\n",
            "Final weights for SGD with one sample: w0=-48025.89414898886, w1=-151368.89301868022\n"
          ]
        },
        {
          "output_type": "stream",
          "name": "stderr",
          "text": [
            "<ipython-input-2-d4fdf7de7d20>:2: RuntimeWarning: invalid value encountered in double_scalars\n",
            "  return (np.abs(value1 - value2) / ((value1 + value2) / 2)) * 100\n"
          ]
        }
      ]
    },
    {
      "cell_type": "markdown",
      "source": [
        "# **4. Adam optimizer**"
      ],
      "metadata": {
        "id": "f0Kky_52oppI"
      }
    },
    {
      "cell_type": "code",
      "source": [
        "from math import sqrt\n",
        "\n",
        "def update_learning_rate_with_adam(learning_rate, a, e = 1e-8):\n",
        "    # Update learning_rate\n",
        "    learning_rate = learning_rate / sqrt(a + e)\n",
        "    #print(learning_rate)\n",
        "\n",
        "    return learning_rate"
      ],
      "metadata": {
        "id": "4DgBoZYnR04_"
      },
      "execution_count": 7,
      "outputs": []
    },
    {
      "cell_type": "code",
      "source": [
        "def update_w_with_momentum(w, learning_rate, prev_gradient_w, gradient_w, beta = 0.9):\n",
        "    # Update velocity\n",
        "    velocity = (beta * prev_gradient_w) + ((1 - beta) * gradient_w)\n",
        "\n",
        "    # Update w0\n",
        "    w = w - (learning_rate * velocity)\n",
        "\n",
        "    return w, velocity"
      ],
      "metadata": {
        "id": "e74j1FgNXyQO"
      },
      "execution_count": 8,
      "outputs": []
    },
    {
      "cell_type": "code",
      "source": [
        "# Step 3: Define SGD function\n",
        "def sgd_one_sample(X, Y, w0, w1, learning_rate, epochs=6000, tol=1, consecutive_instances=10):\n",
        "    n = len(X)\n",
        "    prev_loss = float('inf')\n",
        "    count = 0\n",
        "    a = 0\n",
        "    b = 0.9 # Initailize beta value\n",
        "\n",
        "    # Initialize previous gradients\n",
        "    prev_gradient_w0 = 0.0\n",
        "    prev_gradient_w1 = 0.0\n",
        "\n",
        "    # Initialize previous gradients and accumulators\n",
        "    learning_rate_w0 = 0.01\n",
        "    learning_rate_w1 = 0.01\n",
        "    a_w0 = 0.0\n",
        "    a_w1 = 0.0\n",
        "\n",
        "    for epoch in range(epochs):\n",
        "        for i in range(n):\n",
        "            # Select one random data point\n",
        "            random_index = np.random.randint(0, n)\n",
        "            x_i = X[random_index]\n",
        "            y_i = Y[random_index]\n",
        "\n",
        "            # Calculate prediction and loss for the selected point\n",
        "            prediction = w0 + w1 * x_i\n",
        "            loss = (y_i - prediction)**2\n",
        "\n",
        "            # Calculate gradients\n",
        "            gradient_w0 = -2 * (y_i - prediction)\n",
        "            gradient_w1 = -2 * (y_i - prediction) * x_i\n",
        "\n",
        "            # Update learning_rate\n",
        "            learning_rate_w0 = update_learning_rate_with_adam(learning_rate_w0, a_w0)\n",
        "            learning_rate_w1 = update_learning_rate_with_adam(learning_rate_w1, a_w1)\n",
        "\n",
        "            # Update weights\n",
        "            w0, gradient_w0 = update_w_with_momentum(w0, learning_rate, prev_gradient_w0, gradient_w0)\n",
        "            w1, gradient_w1 = update_w_with_momentum(w1, learning_rate, prev_gradient_w1, gradient_w1)\n",
        "\n",
        "            # Update previous gradient for next iteration\n",
        "            prev_gradient_w0 = gradient_w0\n",
        "            prev_gradient_w1 = gradient_w1\n",
        "\n",
        "            # Update a for next iteration\n",
        "            a_w0 = (b * a_w0) + ((1-b) * gradient_w0**2)\n",
        "            a_w1 = (b * a_w1) + ((1-b) * gradient_w1**2)\n",
        "\n",
        "            if learning_rate_w0 == 0 and learning_rate_w1 == 0:\n",
        "              break\n",
        "\n",
        "\n",
        "        # Calculate overall loss for monitoring\n",
        "        predictions = w0 + w1 * X\n",
        "        overall_loss = np.mean((Y - predictions)**2)\n",
        "\n",
        "        percent_diff = percentage_difference(prev_loss, overall_loss)\n",
        "        if percent_diff < tol:\n",
        "          count += 1\n",
        "        else:\n",
        "          count = 0\n",
        "\n",
        "        # Print loss for monitoring\n",
        "        if epoch % 500 == 0:\n",
        "            #print(f\"learning_rate_w0: {learning_rate_w0}, learning_rate_w1: {learning_rate_w1}\")\n",
        "            print(f\"Epoch {epoch}, Loss: {overall_loss}\")\n",
        "\n",
        "        # the model will stop learning as the learning rate is 0\n",
        "        if learning_rate_w0 == 0 or learning_rate_w1 == 0:\n",
        "            print(f\"learning_rate_w0: {learning_rate_w0}, learning_rate_w1: {learning_rate_w1}\")\n",
        "            print(f\"Epoch {epoch}, Loss: {overall_loss}\")\n",
        "            break\n",
        "\n",
        "        # Update the stopping criteria to consider non-inf values\n",
        "        if count >= consecutive_instances:\n",
        "            print(f\"Epoch {epoch}, Loss: {overall_loss}\")\n",
        "            print(\"Converged! \", count)\n",
        "            break\n",
        "\n",
        "        # Append loss to the history\n",
        "        loss_history_sgd_one_sample.append(overall_loss)\n",
        "\n",
        "        # Update previous loss for the next iteration\n",
        "        prev_loss = overall_loss\n",
        "\n",
        "    return w0, w1\n",
        "\n",
        "# Step 4: Run SGD Adam\n",
        "w_0 = 0.8260560647266798\n",
        "w_1 = 0.5782539087214469\n",
        "learning_rate = 0.01\n",
        "loss_history_sgd_one_sample = []\n",
        "w0_sgd_one_sample, w1_sgd_one_sample = sgd_one_sample(X, Y, w_0, w_1, learning_rate)\n",
        "print(f\"Final weights for SGD with one sample: w0={w0_sgd_one_sample}, w1={w1_sgd_one_sample}\")"
      ],
      "metadata": {
        "colab": {
          "base_uri": "https://localhost:8080/"
        },
        "id": "zvwFhezqXuk5",
        "outputId": "1da026f5-cf91-4d20-b37f-391766009697"
      },
      "execution_count": 11,
      "outputs": [
        {
          "output_type": "stream",
          "name": "stderr",
          "text": [
            "<ipython-input-2-d4fdf7de7d20>:2: RuntimeWarning: invalid value encountered in double_scalars\n",
            "  return (np.abs(value1 - value2) / ((value1 + value2) / 2)) * 100\n"
          ]
        },
        {
          "output_type": "stream",
          "name": "stdout",
          "text": [
            "Epoch 0, Loss: 0.03934092560882483\n",
            "Epoch 500, Loss: 0.021586422209138506\n",
            "Epoch 677, Loss: 0.021147818654493576\n",
            "Converged!  10\n",
            "Final weights for SGD with one sample: w0=4.769235094450262, w1=4.9932411871183415\n"
          ]
        }
      ]
    },
    {
      "cell_type": "code",
      "source": [
        "# Plot the loss vs. epoch graph for SGD with one sample\n",
        "plot_loss_vs_epoch(loss_history_sgd_one_sample, 'SGD Adam')"
      ],
      "metadata": {
        "colab": {
          "base_uri": "https://localhost:8080/",
          "height": 472
        },
        "id": "Wn5OjcL2YZgE",
        "outputId": "830df482-263b-4220-c065-8c4d81e1ad8a"
      },
      "execution_count": 13,
      "outputs": [
        {
          "output_type": "display_data",
          "data": {
            "text/plain": [
              "<Figure size 640x480 with 1 Axes>"
            ],
            "image/png": "[encoded data removed]"
          },
          "metadata": {}
        }
      ]
    },
    {
      "cell_type": "code",
      "source": [],
      "metadata": {
        "id": "8xLvQyd4Yufc"
      },
      "execution_count": null,
      "outputs": []
    }
  ]
}